{
 "cells": [
  {
   "cell_type": "markdown",
   "metadata": {},
   "source": [
    "# Coin segmentation\n",
    "\n",
    "<div style=\"background: lightblue; width: calc(100%-2em); font-size: 150%; color: lightgray; padding: 1em; margin: 1em; line-height: 1.3em;\">\n",
    "Stéfan van der Walt<br/>\n",
    "<a href=\"mailto:stefanv@berkeley.edu\">stefanv@berkeley.edu</a><br/>\n",
    "<a href=\"https://twitter.com/stefanvdwalt\">@stefanvdwalt</a> on Twitter<br/>\n",
    "<br/>\n",
    "You can find this notebook online at https://github.com/stefanv/teaching\n",
    "</div>\n",
    "\n",
    "\n",
    "## Using watershed and region properties"
   ]
  },
  {
   "cell_type": "code",
   "execution_count": 1,
   "metadata": {},
   "outputs": [
    {
     "data": {
      "text/plain": [
       "'0.14dev'"
      ]
     },
     "execution_count": 1,
     "metadata": {},
     "output_type": "execute_result"
    }
   ],
   "source": [
    "import skimage\n",
    "skimage.__version__"
   ]
  },
  {
   "cell_type": "code",
   "execution_count": null,
   "metadata": {
    "collapsed": true
   },
   "outputs": [],
   "source": [
    "import numpy as np\n",
    "\n",
    "%matplotlib inline\n",
    "import matplotlib.pyplot as plt"
   ]
  },
  {
   "cell_type": "code",
   "execution_count": null,
   "metadata": {
    "collapsed": true
   },
   "outputs": [],
   "source": [
    "from skimage import data\n",
    "coins = data.coins()"
   ]
  },
  {
   "cell_type": "code",
   "execution_count": null,
   "metadata": {},
   "outputs": [],
   "source": [
    "plt.imshow(coins, cmap='gray');"
   ]
  },
  {
   "cell_type": "code",
   "execution_count": null,
   "metadata": {},
   "outputs": [],
   "source": [
    "from skimage import filters\n",
    "\n",
    "coins_denoised = filters.median(coins, selem=np.ones((5, 5)))\n",
    "\n",
    "f, (ax0, ax1) = plt.subplots(1, 2, figsize=(15, 5))\n",
    "ax0.imshow(coins)\n",
    "ax1.imshow(coins_denoised);"
   ]
  },
  {
   "cell_type": "code",
   "execution_count": null,
   "metadata": {},
   "outputs": [],
   "source": [
    "from skimage import feature\n",
    "edges = skimage.feature.canny(coins, sigma=3)\n",
    "\n",
    "plt.imshow(edges);"
   ]
  },
  {
   "cell_type": "code",
   "execution_count": null,
   "metadata": {},
   "outputs": [],
   "source": [
    "from scipy.ndimage import distance_transform_edt\n",
    "dt = distance_transform_edt(~edges)\n",
    "\n",
    "plt.imshow(dt);"
   ]
  },
  {
   "cell_type": "code",
   "execution_count": null,
   "metadata": {},
   "outputs": [],
   "source": [
    "local_max = feature.peak_local_max(dt, indices=False, min_distance=5)\n",
    "plt.imshow(local_max, cmap='gray');"
   ]
  },
  {
   "cell_type": "code",
   "execution_count": null,
   "metadata": {},
   "outputs": [],
   "source": [
    "peak_idx = feature.peak_local_max(dt, indices=True, min_distance=5)\n",
    "peak_idx[:5]"
   ]
  },
  {
   "cell_type": "code",
   "execution_count": null,
   "metadata": {},
   "outputs": [],
   "source": [
    "plt.plot(peak_idx[1], peak_idx[0], 'r.')\n",
    "plt.imshow(dt);"
   ]
  },
  {
   "cell_type": "code",
   "execution_count": null,
   "metadata": {},
   "outputs": [],
   "source": [
    "from skimage import measure\n",
    "\n",
    "markers = measure.label(local_max)"
   ]
  },
  {
   "cell_type": "code",
   "execution_count": null,
   "metadata": {},
   "outputs": [],
   "source": [
    "from skimage import morphology, segmentation\n",
    "\n",
    "labels = morphology.watershed(-dt, markers)\n",
    "plt.imshow(segmentation.mark_boundaries(coins, labels));"
   ]
  },
  {
   "cell_type": "code",
   "execution_count": null,
   "metadata": {},
   "outputs": [],
   "source": [
    "from skimage import color\n",
    "plt.imshow(color.label2rgb(labels, image=coins));"
   ]
  },
  {
   "cell_type": "code",
   "execution_count": null,
   "metadata": {},
   "outputs": [],
   "source": [
    "plt.imshow(color.label2rgb(labels, image=coins, kind='avg'), cmap='gray');"
   ]
  },
  {
   "cell_type": "code",
   "execution_count": null,
   "metadata": {
    "collapsed": true
   },
   "outputs": [],
   "source": [
    "regions = measure.regionprops(labels, intensity_image=coins)"
   ]
  },
  {
   "cell_type": "code",
   "execution_count": null,
   "metadata": {},
   "outputs": [],
   "source": [
    "region_means = [r.mean_intensity for r in regions]\n",
    "plt.hist(region_means, bins=20);"
   ]
  },
  {
   "cell_type": "code",
   "execution_count": null,
   "metadata": {},
   "outputs": [],
   "source": [
    "from sklearn.cluster import KMeans\n",
    "model = KMeans(n_clusters=2)\n",
    "\n",
    "region_means = np.array(region_means).reshape(-1, 1)\n",
    "model.fit(np.array(region_means).reshape(-1, 1))\n",
    "print(model.cluster_centers_)"
   ]
  },
  {
   "cell_type": "code",
   "execution_count": null,
   "metadata": {},
   "outputs": [],
   "source": [
    "bg_fg_labels = model.predict(region_means)\n",
    "bg_fg_labels"
   ]
  },
  {
   "cell_type": "code",
   "execution_count": null,
   "metadata": {},
   "outputs": [],
   "source": [
    "classified_labels = labels.copy()\n",
    "for bg_fg, region in zip(bg_fg_labels, regions):\n",
    "    classified_labels[tuple(region.coords.T)] = bg_fg"
   ]
  },
  {
   "cell_type": "code",
   "execution_count": null,
   "metadata": {},
   "outputs": [],
   "source": [
    "plt.imshow(color.label2rgb(classified_labels, image=coins));"
   ]
  }
 ],
 "metadata": {
  "kernelspec": {
   "display_name": "Python 3",
   "language": "python",
   "name": "python3"
  },
  "language_info": {
   "codemirror_mode": {
    "name": "ipython",
    "version": 3
   },
   "file_extension": ".py",
   "mimetype": "text/x-python",
   "name": "python",
   "nbconvert_exporter": "python",
   "pygments_lexer": "ipython3",
   "version": "3.6.0"
  }
 },
 "nbformat": 4,
 "nbformat_minor": 2
}
